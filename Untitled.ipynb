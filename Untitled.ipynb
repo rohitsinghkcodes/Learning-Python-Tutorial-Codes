{
 "cells": [
  {
   "cell_type": "code",
   "execution_count": 1,
   "metadata": {},
   "outputs": [],
   "source": [
    "def sum(s1,s2):\n",
    "    return s1+s2"
   ]
  },
  {
   "cell_type": "code",
   "execution_count": 2,
   "metadata": {},
   "outputs": [
    {
     "data": {
      "text/plain": [
       "30"
      ]
     },
     "execution_count": 2,
     "metadata": {},
     "output_type": "execute_result"
    }
   ],
   "source": [
    "sum(10,20)"
   ]
  },
  {
   "cell_type": "code",
   "execution_count": null,
   "metadata": {},
   "outputs": [],
   "source": []
  },
  {
   "cell_type": "code",
   "execution_count": null,
   "metadata": {},
   "outputs": [],
   "source": []
  },
  {
   "cell_type": "code",
   "execution_count": 6,
   "metadata": {},
   "outputs": [
    {
     "name": "stdout",
     "output_type": "stream",
     "text": [
      "Enter the value of a2: 20\n"
     ]
    }
   ],
   "source": [
    "#Another example\n",
    "a1=10\n",
    "a2=int(input(\"Enter the value of a2: \"))"
   ]
  },
  {
   "cell_type": "code",
   "execution_count": 7,
   "metadata": {},
   "outputs": [
    {
     "data": {
      "text/plain": [
       "30"
      ]
     },
     "execution_count": 7,
     "metadata": {},
     "output_type": "execute_result"
    }
   ],
   "source": [
    "sum(a1,a2)"
   ]
  },
  {
   "cell_type": "code",
   "execution_count": null,
   "metadata": {},
   "outputs": [],
   "source": []
  },
  {
   "cell_type": "code",
   "execution_count": null,
   "metadata": {},
   "outputs": [],
   "source": []
  },
  {
   "cell_type": "markdown",
   "metadata": {},
   "source": [
    "# Try And Except "
   ]
  },
  {
   "cell_type": "code",
   "execution_count": 21,
   "metadata": {},
   "outputs": [
    {
     "name": "stdout",
     "output_type": "stream",
     "text": [
      "Sum is successful\n",
      "20\n"
     ]
    }
   ],
   "source": [
    "try:\n",
    "    #Want to attempt this code\n",
    "    #May have an error\n",
    "    result = 10 + 10\n",
    "except:\n",
    "    print(\"Have some error!\")\n",
    "else:\n",
    "    print('Sum is successful')\n",
    "    print(result)"
   ]
  },
  {
   "cell_type": "code",
   "execution_count": 22,
   "metadata": {},
   "outputs": [
    {
     "data": {
      "text/plain": [
       "20"
      ]
     },
     "execution_count": 22,
     "metadata": {},
     "output_type": "execute_result"
    }
   ],
   "source": [
    "result"
   ]
  },
  {
   "cell_type": "code",
   "execution_count": null,
   "metadata": {},
   "outputs": [],
   "source": []
  },
  {
   "cell_type": "markdown",
   "metadata": {},
   "source": [
    "# Use of finally"
   ]
  },
  {
   "cell_type": "code",
   "execution_count": 27,
   "metadata": {},
   "outputs": [
    {
     "name": "stdout",
     "output_type": "stream",
     "text": [
      "You have an OS error Here\n",
      "This is always running\n"
     ]
    }
   ],
   "source": [
    "try:\n",
    "    f = open('testfile','r')\n",
    "    f.write(\"Write a test line\")\n",
    "except TypeError:\n",
    "    #for specifically type error\n",
    "    print(\"Here is an Type error !\")\n",
    "except OSError:\n",
    "    print(\"You have an OS error Here\")\n",
    "finally:\n",
    "    print(\"This is always running\")\n",
    "    "
   ]
  },
  {
   "cell_type": "code",
   "execution_count": 31,
   "metadata": {},
   "outputs": [
    {
     "name": "stdout",
     "output_type": "stream",
     "text": [
      "This is always running\n"
     ]
    }
   ],
   "source": [
    "#Most common form of code \n",
    "try:\n",
    "    f = open('testfile','w')\n",
    "    f.write(\"Write a test line\")\n",
    "except:\n",
    "    print(\"Here is an error !\")\n",
    "finally:\n",
    "    print(\"This is always running\")"
   ]
  },
  {
   "cell_type": "markdown",
   "metadata": {},
   "source": [
    "# Use in function\n"
   ]
  },
  {
   "cell_type": "code",
   "execution_count": 9,
   "metadata": {},
   "outputs": [],
   "source": [
    "def ask_for_no():\n",
    "    \n",
    "    while True:\n",
    "        try:\n",
    "            number = int(input(\"Enter a no: \"))\n",
    "        except:\n",
    "            print(\"Error Here! This is not a number \")\n",
    "            continue\n",
    "        else:\n",
    "            print('Thankyou for entering the number')\n",
    "            break\n",
    "        finally:\n",
    "            print(\"End of the program\")\n",
    "            "
   ]
  },
  {
   "cell_type": "code",
   "execution_count": 10,
   "metadata": {},
   "outputs": [
    {
     "name": "stdout",
     "output_type": "stream",
     "text": [
      "Enter a no: q\n",
      "Error Here! This is not a number \n",
      "End of the program\n",
      "Enter a no: e\n",
      "Error Here! This is not a number \n",
      "End of the program\n",
      "Enter a no: w\n",
      "Error Here! This is not a number \n",
      "End of the program\n",
      "Enter a no: q\n",
      "Error Here! This is not a number \n",
      "End of the program\n",
      "Enter a no: e\n",
      "Error Here! This is not a number \n",
      "End of the program\n",
      "Enter a no: r\n",
      "Error Here! This is not a number \n",
      "End of the program\n",
      "Enter a no: e\n",
      "Error Here! This is not a number \n",
      "End of the program\n",
      "Enter a no: 20\n",
      "Thankyou for entering the number\n",
      "End of the program\n"
     ]
    }
   ],
   "source": [
    "ask_for_no()"
   ]
  },
  {
   "cell_type": "code",
   "execution_count": null,
   "metadata": {},
   "outputs": [],
   "source": []
  }
 ],
 "metadata": {
  "kernelspec": {
   "display_name": "Python 3",
   "language": "python",
   "name": "python3"
  },
  "language_info": {
   "codemirror_mode": {
    "name": "ipython",
    "version": 3
   },
   "file_extension": ".py",
   "mimetype": "text/x-python",
   "name": "python",
   "nbconvert_exporter": "python",
   "pygments_lexer": "ipython3",
   "version": "3.7.4"
  }
 },
 "nbformat": 4,
 "nbformat_minor": 2
}
